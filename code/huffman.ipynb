{
 "cells": [
  {
   "cell_type": "code",
   "execution_count": 2,
   "metadata": {
    "vscode": {
     "languageId": "ocaml"
    }
   },
   "outputs": [
    {
     "data": {
      "text/plain": [
       "type 'a tree = F of 'a | N of 'a tree * 'a tree\n"
      ]
     },
     "execution_count": 2,
     "metadata": {},
     "output_type": "execute_result"
    }
   ],
   "source": [
    "type 'a tree = F of 'a | N of 'a tree * 'a tree"
   ]
  },
  {
   "cell_type": "code",
   "execution_count": 3,
   "metadata": {
    "vscode": {
     "languageId": "ocaml"
    }
   },
   "outputs": [
    {
     "data": {
      "text/plain": [
       "val read : 'a tree -> int list -> 'a * int list = <fun>\n"
      ]
     },
     "execution_count": 3,
     "metadata": {},
     "output_type": "execute_result"
    }
   ],
   "source": [
    "let rec read t l =\n",
    "  match t with\n",
    "  | F(e) -> e, l\n",
    "  | N(g,d) -> read (if List.hd l = 0 then g else d) (List.tl l)"
   ]
  },
  {
   "cell_type": "code",
   "execution_count": 4,
   "metadata": {
    "vscode": {
     "languageId": "ocaml"
    }
   },
   "outputs": [
    {
     "data": {
      "text/plain": [
       "val decode : 'a tree -> int list -> 'a list = <fun>\n"
      ]
     },
     "execution_count": 4,
     "metadata": {},
     "output_type": "execute_result"
    }
   ],
   "source": [
    "let rec decode arb l =\n",
    "  if l = [] then []\n",
    "  else let e, next = read arb l in e::(decode arb next)"
   ]
  },
  {
   "cell_type": "code",
   "execution_count": 5,
   "metadata": {
    "vscode": {
     "languageId": "ocaml"
    }
   },
   "outputs": [
    {
     "data": {
      "text/plain": [
       "type 'a fp = {\n",
       "  add : 'a -> unit;\n",
       "  is_empty : unit -> bool;\n",
       "  take_min : unit -> 'a;\n",
       "}\n"
      ]
     },
     "execution_count": 5,
     "metadata": {},
     "output_type": "execute_result"
    }
   ],
   "source": [
    "type 'a fp = {\n",
    "    add : 'a -> unit;\n",
    "    is_empty : unit -> bool;\n",
    "    take_min : unit -> 'a\n",
    "}"
   ]
  },
  {
   "cell_type": "code",
   "execution_count": 6,
   "metadata": {
    "vscode": {
     "languageId": "ocaml"
    }
   },
   "outputs": [
    {
     "data": {
      "text/plain": [
       "val to_huffman : (int * 'a tree) fp -> (int * 'a) list -> 'a tree = <fun>\n"
      ]
     },
     "execution_count": 6,
     "metadata": {},
     "output_type": "execute_result"
    }
   ],
   "source": [
    "let to_huffman fp freq =\n",
    "  let rec init l =\n",
    "    match l with\n",
    "    | [] -> ()\n",
    "    | (f, c)::q -> fp.add (f, F(c)); init q\n",
    "  in init freq;\n",
    "  for i = 0 to List.length freq - 2 do\n",
    "    let (f1, a1), (f2, a2) = fp.take_min(), fp.take_min() in\n",
    "    fp.add(f1 + f2, N(a1, a2))\n",
    "  done;\n",
    "  snd(fp.take_min())"
   ]
  },
  {
   "cell_type": "code",
   "execution_count": 13,
   "metadata": {
    "vscode": {
     "languageId": "ocaml"
    }
   },
   "outputs": [
    {
     "data": {
      "text/plain": [
       "type ('k, 'v) dict = { get : 'k -> 'v; add : 'k -> 'v -> unit; }\n"
      ]
     },
     "execution_count": 13,
     "metadata": {},
     "output_type": "execute_result"
    }
   ],
   "source": [
    "type ('k,'v) dict = {\n",
    "    get : 'k -> 'v;\n",
    "    add : 'k -> 'v -> unit\n",
    "}"
   ]
  },
  {
   "cell_type": "code",
   "execution_count": 14,
   "metadata": {
    "vscode": {
     "languageId": "ocaml"
    }
   },
   "outputs": [
    {
     "data": {
      "text/plain": [
       "val to_dico : 'a tree -> ('a, int list) dict -> int list -> unit = <fun>\n"
      ]
     },
     "execution_count": 14,
     "metadata": {},
     "output_type": "execute_result"
    }
   ],
   "source": [
    "let rec to_dico arb dico chemin =\n",
    "  match arb with\n",
    "  | F(e) -> dico.add e (List.rev chemin)\n",
    "  | N(g,d) -> to_dico g dico (0::chemin); to_dico d dico (1::chemin)"
   ]
  },
  {
   "cell_type": "code",
   "execution_count": 15,
   "metadata": {
    "vscode": {
     "languageId": "ocaml"
    }
   },
   "outputs": [
    {
     "data": {
      "text/plain": [
       "val code : ('a, 'b list list) dict -> 'a list -> 'b list = <fun>\n"
      ]
     },
     "execution_count": 15,
     "metadata": {},
     "output_type": "execute_result"
    }
   ],
   "source": [
    "let rec code dico l =\n",
    "  match l with\n",
    "  | [] -> []\n",
    "  | t::q -> (List.hd (dico.get t)) @ code dico q"
   ]
  }
 ],
 "metadata": {
  "kernelspec": {
   "display_name": "OCaml default",
   "language": "OCaml",
   "name": "ocaml-jupyter"
  },
  "language_info": {
   "codemirror_mode": "text/x-ocaml",
   "file_extension": ".ml",
   "mimetype": "text/x-ocaml",
   "name": "OCaml",
   "nbconverter_exporter": null,
   "pygments_lexer": "OCaml",
   "version": "4.08.1"
  },
  "orig_nbformat": 4
 },
 "nbformat": 4,
 "nbformat_minor": 2
}
